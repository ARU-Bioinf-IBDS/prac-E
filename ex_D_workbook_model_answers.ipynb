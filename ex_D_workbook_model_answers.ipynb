{
 "cells": [
  {
   "cell_type": "markdown",
   "metadata": {},
   "source": [
    "# MODEL ANSWERS!\n",
    "\n",
    "\n",
    "\n",
    "# workbook D: Writing your own functions\n",
    "\n",
    "Before starting this exercise you should work through\n",
    "\n",
    "*  *Chapter 1 Writing your own functions*\n",
    "\n",
    "from the\n",
    "[DataCamp online course: Python Data Science Toolbox (Part 1)\n",
    "](https://campus.datacamp.com/courses/python-data-science-toolbox-part-1/).\n",
    "\n",
    "We will then use what you have learnt there to explore how biological\n",
    "data can be handled in Python."
   ]
  },
  {
   "cell_type": "markdown",
   "metadata": {
    "collapsed": true
   },
   "source": [
    "> ### Reminder: saving your work\n",
    ">\n",
    "> As you work through the work book it is important to regularly save your work. Notice that as you have made  changes the Jupyter window top line will warn you there are `(unsaved changes)` in small text. To save your work in this notebook by either select menu item `File` `Save` or by hit the save button:\n",
    "> \n",
    "> <img src=\"./images/save_button.png\"/>\n",
    ">\n",
    "> \n",
    "> ### Reminder: getting help \n",
    "> Please see the page:\n",
    "> [Help with programming](https://canvas.anglia.ac.uk/courses/1490/pages/help-with-programming)\n",
    "> on ARU Canvas."
   ]
  },
  {
   "cell_type": "markdown",
   "metadata": {},
   "source": [
    "## Python functions: built-in functions\n",
    "\n",
    "We have been using already been using Python's in-built functions a lot: "
   ]
  },
  {
   "cell_type": "code",
   "execution_count": 1,
   "metadata": {},
   "outputs": [
    {
     "name": "stdout",
     "output_type": "stream",
     "text": [
      "to find the length of a string len(\"a string\")= 8\n",
      "to the type of the \"species\" variable use type(species)= <class 'list'>\n"
     ]
    }
   ],
   "source": [
    "# Instruction: run this cell to see built in functions we have been using\n",
    "print('to find the length of a string len(\"a string\")=', len('a string'))\n",
    "species = ['dog', 'cat', 'mule']\n",
    "print('to the type of the \"species\" variable use type(species)=', type(species))"
   ]
  },
  {
   "cell_type": "markdown",
   "metadata": {},
   "source": [
    "Great thing about these functions is that\n",
    "* we do not need to worry about how they work\n",
    "* they produce code that is easy to read - it is obvious `len(snips_list)` will produce a number that equals the number of items in the `snips_list`\n",
    "* and that it is easy to get help about how they work: for instance to get help on the len function:"
   ]
  },
  {
   "cell_type": "code",
   "execution_count": 2,
   "metadata": {},
   "outputs": [
    {
     "name": "stdout",
     "output_type": "stream",
     "text": [
      "Help on built-in function len in module builtins:\n",
      "\n",
      "len(obj, /)\n",
      "    Return the number of items in a container.\n",
      "\n"
     ]
    }
   ],
   "source": [
    "# Instruction: run this cell to get help on the len() function\n",
    "help(len)"
   ]
  },
  {
   "cell_type": "markdown",
   "metadata": {},
   "source": [
    "**Your turn** what does the Python built-in function `abs()` do?"
   ]
  },
  {
   "cell_type": "code",
   "execution_count": 3,
   "metadata": {},
   "outputs": [
    {
     "name": "stdout",
     "output_type": "stream",
     "text": [
      "Help on built-in function abs in module builtins:\n",
      "\n",
      "abs(x, /)\n",
      "    Return the absolute value of the argument.\n",
      "\n"
     ]
    }
   ],
   "source": [
    "# Instruction: write Python expression to find out what abs function does\n",
    "### your Python code\n",
    "help(abs)"
   ]
  },
  {
   "cell_type": "markdown",
   "metadata": {},
   "source": [
    "Now print out the abs function for -15 and -123.5 and 7"
   ]
  },
  {
   "cell_type": "code",
   "execution_count": 4,
   "metadata": {},
   "outputs": [
    {
     "name": "stdout",
     "output_type": "stream",
     "text": [
      "number: -15 abs(number): 15\n",
      "number: -123.5 abs(number): 123.5\n",
      "number: 7 abs(number): 7\n"
     ]
    }
   ],
   "source": [
    "# Instruction: print out the abs function for the input -15 and -123.5 and 7\n",
    "for number in -15, -123.5, 7:\n",
    "    print('number:', number, 'abs(number):', abs(number))"
   ]
  },
  {
   "cell_type": "markdown",
   "metadata": {},
   "source": [
    "## Writing a function\n",
    "\n",
    "Built-in functions are really useful but we clearly need to be able to produce our own functions for bioinformatics and data science.\n",
    "\n",
    "As you have already seen in the [DataCamp online course: Python Data Science Toolbox (Part 1)\n",
    "](https://campus.datacamp.com/courses/python-data-science-toolbox-part-1/) writing a function is simple:"
   ]
  },
  {
   "cell_type": "code",
   "execution_count": 5,
   "metadata": {
    "collapsed": true
   },
   "outputs": [],
   "source": [
    "# Instruction: run this cell containing an example function called double\n",
    "def double(number):\n",
    "    \"\"\"\n",
    "    returns doubles the input number.\n",
    "    \n",
    "    Note: this is a docstring describing what function does. \n",
    "    It is can have more than one line!\n",
    "    \"\"\"\n",
    "    double_number = 2*number\n",
    "    return double_number"
   ]
  },
  {
   "cell_type": "markdown",
   "metadata": {},
   "source": [
    "When you ran the cell notice that no output was produced. But the Jupyter Notebook kernel now knows there is a function called `double`.\n",
    "* It has a single **argument** called `number`. \n",
    "* the function definition starts with a header line starting `def` and ending with a colon `:`\n",
    "* the function is then indented with 4 spaces (in the same way as `if` and `for`).\n",
    "* The first thing in a function should be a **docstring** that is surrounded by triple double quotation marks.\n",
    "* The **docstring** can have more than one line.\n",
    "* this function returns a single value with a **return** statement.\n",
    "\n",
    "The function can be called:"
   ]
  },
  {
   "cell_type": "code",
   "execution_count": 6,
   "metadata": {},
   "outputs": [
    {
     "name": "stdout",
     "output_type": "stream",
     "text": [
      "4\n",
      "-3950.26\n"
     ]
    }
   ],
   "source": [
    "# Instruction: run this cell to show running the double function \n",
    "print(double(2))\n",
    "print(double(-1975.13))"
   ]
  },
  {
   "cell_type": "markdown",
   "metadata": {},
   "source": [
    "The docstring help message can be accessed:"
   ]
  },
  {
   "cell_type": "code",
   "execution_count": 7,
   "metadata": {},
   "outputs": [
    {
     "name": "stdout",
     "output_type": "stream",
     "text": [
      "Help on function double in module __main__:\n",
      "\n",
      "double(number)\n",
      "    returns doubles the input number.\n",
      "    \n",
      "    Note: this is a docstring describing what function does. \n",
      "    It is can have more than one line!\n",
      "\n"
     ]
    }
   ],
   "source": [
    "help(double)"
   ]
  },
  {
   "cell_type": "markdown",
   "metadata": {},
   "source": [
    "**Now it is your turn!**\n",
    "\n",
    "The following bit of code works out the complement of a given DNA sequence:"
   ]
  },
  {
   "cell_type": "code",
   "execution_count": 8,
   "metadata": {},
   "outputs": [
    {
     "data": {
      "text/plain": [
       "'TAACCCGGGG'"
      ]
     },
     "execution_count": 8,
     "metadata": {},
     "output_type": "execute_result"
    }
   ],
   "source": [
    "sequence = 'ATTGGGCCCC'\n",
    "complement = sequence.replace('A','t')\n",
    "complement = complement.replace('T','a')\n",
    "complement = complement.replace('G','c')\n",
    "complement = complement.replace('C','g')\n",
    "complement = complement.upper()\n",
    "complement"
   ]
  },
  {
   "cell_type": "markdown",
   "metadata": {},
   "source": [
    "But what if we wanted to work out the complement of another sequence:\n",
    "```\n",
    "tata_oligo = 'CTGCTATAAAAGGCTG'\n",
    "```\n",
    "We *could* copy and paste the code section above and then adapt it but this\n",
    "is **a really bad idea**. Instead it is much better to use a function. \n",
    "If you find yourself copy and  pasting sections of code in your work then think again - \n",
    "there is likely to be a better way.\n",
    "\n",
    "So lets create a function to work out the complement of a sequence. What would a sensible function name be>"
   ]
  },
  {
   "cell_type": "code",
   "execution_count": 9,
   "metadata": {
    "collapsed": true
   },
   "outputs": [],
   "source": [
    "# Instruction: write a function thats returns the complement in a given sequence.\n",
    "def complement(sequence):\n",
    "    \"\"\"\n",
    "    returns the complement of DNA sequence string.\n",
    "    \n",
    "    The complement replaces bases, according to the table:\n",
    "    \n",
    "    Base | Replacement\n",
    "    -----+-----------\n",
    "     A   |  T\n",
    "     T   |  A\n",
    "     G   |  C\n",
    "     C   |  G\n",
    "    letters that are not in the list ATGC are left alone and\n",
    "    not replaced.\n",
    "    \"\"\"\n",
    "    complement = sequence.replace('A','t')\n",
    "    complement = complement.replace('T','a')\n",
    "    complement = complement.replace('G','c')\n",
    "    complement = complement.replace('C','g')\n",
    "    complement = complement.upper()\n",
    "    return complement\n"
   ]
  },
  {
   "cell_type": "markdown",
   "metadata": {},
   "source": [
    "Now use the `complement` function to check the complements of the following sequences\n",
    "\n",
    "* `A`\n",
    "* `AT`\n",
    "* `ATGC`\n",
    "* `GACGATATTTTCCGAC`\n",
    "\n",
    "You might want to use http://arep.med.harvard.edu/cgi-bin/adnan/revcomp.pl"
   ]
  },
  {
   "cell_type": "code",
   "execution_count": 10,
   "metadata": {},
   "outputs": [
    {
     "name": "stdout",
     "output_type": "stream",
     "text": [
      "sequence:          A\n",
      "known complement:  T\n",
      "complement(seq):   T\n",
      "PASS\n",
      "sequence:          AT\n",
      "known complement:  TA\n",
      "complement(seq):   TA\n",
      "PASS\n",
      "sequence:          ATGC\n",
      "known complement:  TACG\n",
      "complement(seq):   TACG\n",
      "PASS\n",
      "sequence:          CTGCTATAAAAGGCTG\n",
      "known complement:  GACGATATTTTCCGAC\n",
      "complement(seq):   GACGATATTTTCCGAC\n",
      "PASS\n"
     ]
    }
   ],
   "source": [
    "# Instruction: use the complement function to check the sequences\n",
    "# have their expected complements\n",
    "tests = [('A', 'T'),\n",
    "         ('AT', 'TA'),\n",
    "         ('ATGC', 'TACG'),\n",
    "         ('CTGCTATAAAAGGCTG', 'GACGATATTTTCCGAC')]\n",
    "for seq, known_complement in tests:\n",
    "    print('sequence:         ', seq)\n",
    "    print('known complement: ', known_complement)\n",
    "    fn_complement = complement(seq)\n",
    "    print('complement(seq):  ', fn_complement)\n",
    "    if fn_complement == known_complement:\n",
    "        print('PASS')\n",
    "    else:\n",
    "        print('FAIL')"
   ]
  },
  {
   "cell_type": "markdown",
   "metadata": {},
   "source": [
    "Is the help message for the `complement` function reasonable?\n",
    "Imagine you are a user of the function who cannot read the source code.\n",
    "\n",
    "Check the help message:"
   ]
  },
  {
   "cell_type": "code",
   "execution_count": 11,
   "metadata": {},
   "outputs": [
    {
     "name": "stdout",
     "output_type": "stream",
     "text": [
      "Help on function complement in module __main__:\n",
      "\n",
      "complement(sequence)\n",
      "    returns the complement of DNA sequence string.\n",
      "    \n",
      "    The complement replaces bases, according to the table:\n",
      "    \n",
      "    Base | Replacement\n",
      "    -----+-----------\n",
      "     A   |  T\n",
      "     T   |  A\n",
      "     G   |  C\n",
      "     C   |  G\n",
      "    letters that are not in the list ATGC are left alone and\n",
      "    not replaced.\n",
      "\n"
     ]
    }
   ],
   "source": [
    "# Instruction: run this cell to check help message for complement\n",
    "help(complement)"
   ]
  },
  {
   "cell_type": "markdown",
   "metadata": {},
   "source": [
    "Now go on and create a `reverse_complement` function to work out the reverse complement of a DNA sequence"
   ]
  },
  {
   "cell_type": "code",
   "execution_count": 12,
   "metadata": {
    "collapsed": true
   },
   "outputs": [],
   "source": [
    "# Instruction: write a reverse_complement function\n",
    "# REALLY POOR WAY TO DO IT - COPY PASTE!\n",
    "def reverse_complement(sequence):\n",
    "    \"\"\"\n",
    "    returns the reverse complement of DNA sequence string.\n",
    "    \n",
    "    The complement replaces bases, according to the table:\n",
    "    \n",
    "    Base | Replacement\n",
    "    -----+-----------\n",
    "     A   |  T\n",
    "     T   |  A\n",
    "     G   |  C\n",
    "     C   |  G\n",
    "    letters that are not in the list ATGC are left alone and\n",
    "    not replaced.\n",
    "    \n",
    "    The reverse complement reverses the string to give the sequence\n",
    "    of the complement in the normal 5' to 3' direction\n",
    "    \"\"\"\n",
    "    complement = sequence.replace('A','t')\n",
    "    complement = complement.replace('T','a')\n",
    "    complement = complement.replace('G','c')\n",
    "    complement = complement.replace('C','g')\n",
    "    complement = complement.upper()\n",
    "    complement = complement[::-1]  # reverses string\n",
    "    return complement"
   ]
  },
  {
   "cell_type": "code",
   "execution_count": 13,
   "metadata": {},
   "outputs": [
    {
     "name": "stdout",
     "output_type": "stream",
     "text": [
      "sequence:                  A\n",
      "known reverse complement:  T\n",
      "reverse_complement(seq):   T\n",
      "PASS\n",
      "sequence:                  AT\n",
      "known reverse complement:  AT\n",
      "reverse_complement(seq):   AT\n",
      "PASS\n",
      "sequence:                  ATGC\n",
      "known reverse complement:  GCAT\n",
      "reverse_complement(seq):   GCAT\n",
      "PASS\n",
      "sequence:                  CTGCTATAAAAGGCTG\n",
      "known reverse complement:  CAGCCTTTTATAGCAG\n",
      "reverse_complement(seq):   CAGCCTTTTATAGCAG\n",
      "PASS\n"
     ]
    }
   ],
   "source": [
    "# Instruction: test your reverse_complement function\n",
    "tests = [('A', 'T'),\n",
    "         ('AT', 'AT'),\n",
    "         ('ATGC', 'GCAT'),\n",
    "         ('CTGCTATAAAAGGCTG', 'CAGCCTTTTATAGCAG')]\n",
    "for seq, known_rev_complement in tests:\n",
    "    print('sequence:                 ', seq)\n",
    "    print('known reverse complement: ', known_rev_complement)\n",
    "    fn_rev_complement = reverse_complement(seq)\n",
    "    print('reverse_complement(seq):  ', fn_rev_complement)\n",
    "    if fn_rev_complement == known_rev_complement:\n",
    "        print('PASS')\n",
    "    else:\n",
    "        print('FAIL')"
   ]
  },
  {
   "cell_type": "markdown",
   "metadata": {},
   "source": [
    "In writing your `reverse_complement` function have you copy and pasted the `complement` function?\n",
    "\n",
    "What happens if we need to handle RNA sequences that have the base U (with the complement A)? Would you need to edit both the `complement` and `reverse_complement` functions.\n",
    "\n",
    "If you answered yes then think again and rewrite the `reverse_complement` function so that it calls the `complement` function."
   ]
  },
  {
   "cell_type": "code",
   "execution_count": 14,
   "metadata": {
    "collapsed": true
   },
   "outputs": [],
   "source": [
    "# Instruction: rewritten reverse complement function\n",
    "def reverse_complement(sequence):\n",
    "    \"\"\"\n",
    "    returns the reverse complement of DNA sequence string.\n",
    "    \n",
    "    For complement see help(complement)\n",
    "    \"\"\"\n",
    "    answer = complement(sequence)\n",
    "    answer = answer[::-1]  # reverses string\n",
    "    return answer"
   ]
  },
  {
   "cell_type": "markdown",
   "metadata": {},
   "source": [
    "and test the rewritten:"
   ]
  },
  {
   "cell_type": "code",
   "execution_count": 15,
   "metadata": {},
   "outputs": [
    {
     "name": "stdout",
     "output_type": "stream",
     "text": [
      "sequence:                  A\n",
      "known reverse complement:  T\n",
      "reverse_complement(seq):   T\n",
      "PASS\n",
      "sequence:                  AT\n",
      "known reverse complement:  AT\n",
      "reverse_complement(seq):   AT\n",
      "PASS\n",
      "sequence:                  ATGC\n",
      "known reverse complement:  GCAT\n",
      "reverse_complement(seq):   GCAT\n",
      "PASS\n",
      "sequence:                  CTGCTATAAAAGGCTG\n",
      "known reverse complement:  CAGCCTTTTATAGCAG\n",
      "reverse_complement(seq):   CAGCCTTTTATAGCAG\n",
      "PASS\n"
     ]
    }
   ],
   "source": [
    "# Instruction: test your reverse_complement function\n",
    "tests = [('A', 'T'),\n",
    "         ('AT', 'AT'),\n",
    "         ('ATGC', 'GCAT'),\n",
    "         ('CTGCTATAAAAGGCTG', 'CAGCCTTTTATAGCAG')]\n",
    "for seq, known_rev_complement in tests:\n",
    "    print('sequence:                 ', seq)\n",
    "    print('known reverse complement: ', known_rev_complement)\n",
    "    fn_rev_complement = reverse_complement(seq)\n",
    "    print('reverse_complement(seq):  ', fn_rev_complement)\n",
    "    if fn_rev_complement == known_rev_complement:\n",
    "        print('PASS')\n",
    "    else:\n",
    "        print('FAIL')"
   ]
  },
  {
   "cell_type": "markdown",
   "metadata": {},
   "source": [
    "Now replace the `complement` function with an extension that deals with RNA base U that has the complement A."
   ]
  },
  {
   "cell_type": "code",
   "execution_count": 16,
   "metadata": {
    "collapsed": true
   },
   "outputs": [],
   "source": [
    "# Instruction: extended complement function\n",
    "def complement(sequence):\n",
    "    \"\"\"\n",
    "    returns the complement of DNA sequence string.\n",
    "    \n",
    "    The complement replaces bases, according to the table:\n",
    "    \n",
    "    Base | Replacement\n",
    "    -----+-----------\n",
    "     A   |  T\n",
    "     T   |  A\n",
    "     G   |  C\n",
    "     C   |  G\n",
    "     U   |  A\n",
    "    letters that are not in the list ATGC are left alone and\n",
    "    not replaced.\n",
    "    \"\"\"\n",
    "    complement = sequence.replace('A','t')\n",
    "    complement = complement.replace('T','a')\n",
    "    complement = complement.replace('G','c')\n",
    "    complement = complement.replace('C','g')\n",
    "    complement = complement.replace('U','a')\n",
    "    complement = complement.upper()\n",
    "    return complement"
   ]
  },
  {
   "cell_type": "markdown",
   "metadata": {},
   "source": [
    "Show that the `complement` and `reverse_complement` function work as expected for the following case.\n",
    "* the RNA sequence: `UUUCG`\n",
    "* ... has complement: `AAAGC` and\n",
    "* ... has reverse complement `CGAAA`"
   ]
  },
  {
   "cell_type": "code",
   "execution_count": 17,
   "metadata": {},
   "outputs": [
    {
     "name": "stdout",
     "output_type": "stream",
     "text": [
      "rna_sequence:         UUUCG\n",
      "complement:           AAAGC\n",
      "reverse complement:   CGAAA\n"
     ]
    }
   ],
   "source": [
    "# Instruction: test complement and reverse_complement\n",
    "# for RNA sequence UUCG \n",
    "rna_sequence = 'UUUCG'\n",
    "print('rna_sequence:        ', rna_sequence)\n",
    "print('complement:          ', complement(rna_sequence))\n",
    "print('reverse complement:  ', reverse_complement(rna_sequence))"
   ]
  },
  {
   "cell_type": "markdown",
   "metadata": {},
   "source": [
    "**Notice** that by avoiding cut-and-paste we can avoid having to make the same change in two places of code."
   ]
  },
  {
   "cell_type": "markdown",
   "metadata": {},
   "source": [
    "## functions with default arguments\n",
    "\n",
    "These can be really useful to provide **default arguments** to functions. Lets start with an example:"
   ]
  },
  {
   "cell_type": "code",
   "execution_count": 18,
   "metadata": {
    "collapsed": true
   },
   "outputs": [],
   "source": [
    "# Instruction: run this cell so the kernel has the log_entry definition\n",
    "def log_entry(name, status='worker'):\n",
    "    print('LOG ENTRY name:\"{}\" status:\"{}\"'.format(name, status))"
   ]
  },
  {
   "cell_type": "markdown",
   "metadata": {},
   "source": [
    "If we call log_entry with a single argument then the `status` will be `worker`:"
   ]
  },
  {
   "cell_type": "code",
   "execution_count": 19,
   "metadata": {},
   "outputs": [
    {
     "name": "stdout",
     "output_type": "stream",
     "text": [
      "LOG ENTRY name:\"Jasmine Begum\" status:\"worker\"\n"
     ]
    }
   ],
   "source": [
    "# Instruction: run this cell to see result of calling log_entry with a single argument\n",
    "log_entry('Jasmine Begum')"
   ]
  },
  {
   "cell_type": "markdown",
   "metadata": {},
   "source": [
    "But if Jasmine brought a visitor:"
   ]
  },
  {
   "cell_type": "code",
   "execution_count": 20,
   "metadata": {},
   "outputs": [
    {
     "name": "stdout",
     "output_type": "stream",
     "text": [
      "LOG ENTRY name:\"John Brown\" status:\"visitor\"\n"
     ]
    }
   ],
   "source": [
    "# Instruction: run this cell to see override of the default\n",
    "log_entry('John Brown', status='visitor')"
   ]
  },
  {
   "cell_type": "markdown",
   "metadata": {},
   "source": [
    "Log the entry of \n",
    "* Tom Singh whose status is 'security' \n",
    "* Burglar whose status is 'intruder'.\n",
    "* Alice Clarke who works here."
   ]
  },
  {
   "cell_type": "code",
   "execution_count": 21,
   "metadata": {},
   "outputs": [
    {
     "name": "stdout",
     "output_type": "stream",
     "text": [
      "LOG ENTRY name:\"Tom Singh\" status:\"securiy\"\n",
      "LOG ENTRY name:\"Burglar\" status:\"intruder\"\n",
      "LOG ENTRY name:\"Alice Clark\" status:\"worker\"\n"
     ]
    }
   ],
   "source": [
    "# Instruction: call log_entry to log the 3 entries\n",
    "log_entry('Tom Singh', status='securiy')\n",
    "log_entry('Burglar', status='intruder')\n",
    "log_entry('Alice Clark')"
   ]
  },
  {
   "cell_type": "markdown",
   "metadata": {},
   "source": [
    "Finally note that we can call log_entry using parameter names \n",
    "for all arguments:"
   ]
  },
  {
   "cell_type": "code",
   "execution_count": 22,
   "metadata": {},
   "outputs": [
    {
     "name": "stdout",
     "output_type": "stream",
     "text": [
      "LOG ENTRY name:\"Field Mouse\" status:\"worker\"\n",
      "LOG ENTRY name:\"Green Frog\" status:\"wildlife\"\n",
      "LOG ENTRY name:\"Brown Bear\" status:\"unknown\"\n",
      "LOG ENTRY name:\"Fred Flintstone\" status:\"cartoon character\"\n"
     ]
    }
   ],
   "source": [
    "log_entry(name='Field Mouse')\n",
    "log_entry(name='Green Frog', status='wildlife')\n",
    "log_entry(status='unknown', name='Brown Bear')\n",
    "log_entry('Fred Flintstone', 'cartoon character') # using 2 positional arguments"
   ]
  },
  {
   "cell_type": "markdown",
   "metadata": {},
   "source": [
    "**TIP:** For functions with loads of parameters it is normally much clearer to use parameter names rather than positional arguments as the code produced is much easier to read."
   ]
  },
  {
   "cell_type": "markdown",
   "metadata": {},
   "source": [
    "Returning to the complement and reverse complement procedures it could be simplification to define a single function:"
   ]
  },
  {
   "cell_type": "code",
   "execution_count": 23,
   "metadata": {
    "collapsed": true
   },
   "outputs": [],
   "source": [
    "# Instruction: complete the new complement fn. with reverse argument\n",
    "def complement(sequence, reverse=False):\n",
    "    \"\"\"\n",
    "    returns the complement or reverse complement of a DNA sequence string.\n",
    "    \n",
    "    If reverse is True then the reverse complement is returned (to give the sequence\n",
    "    of the complement strand in the normal 5' to 3' direction\n",
    "    \n",
    "    The complement replaces bases, according to the table:\n",
    "    \n",
    "    Base | Replacement\n",
    "    -----+-----------\n",
    "     A   |  T\n",
    "     T   |  A\n",
    "     G   |  C\n",
    "     C   |  G\n",
    "     U   |  A\n",
    "    letters that are not in the list ATGCU are left alone and\n",
    "    not replaced.\n",
    "    \n",
    "    .\n",
    "    \"\"\"\n",
    "    complement = sequence.replace('A','t')\n",
    "    complement = complement.replace('T','a')\n",
    "    complement = complement.replace('G','c')\n",
    "    complement = complement.replace('C','g')\n",
    "    complement = complement.replace('U','a')\n",
    "    complement = complement.upper()\n",
    "    if reverse:\n",
    "        complement = complement[::-1]  # reverses string\n",
    "    return complement"
   ]
  },
  {
   "cell_type": "markdown",
   "metadata": {},
   "source": [
    "To use the new complement function we can call either without a reverse argument for the normal forward complement or with `reverse=True` to get the reverse complement."
   ]
  },
  {
   "cell_type": "code",
   "execution_count": 24,
   "metadata": {},
   "outputs": [
    {
     "name": "stdout",
     "output_type": "stream",
     "text": [
      "test_seq=AAAG complement=TTTC reverse_complement=CTTT\n"
     ]
    }
   ],
   "source": [
    "test_seq = 'AAAG'\n",
    "test_comp = complement(test_seq)\n",
    "test_rev_comp = complement(test_seq, reverse=True)\n",
    "print('test_seq={} complement={} reverse_complement={}'.\n",
    "      format(test_seq, test_comp, test_rev_comp))"
   ]
  },
  {
   "cell_type": "markdown",
   "metadata": {},
   "source": [
    "### Optional exercise: deal with RNA sequences properly\n",
    "\n",
    "What result does your complement function give for the input\n",
    "RNA sequence `AAAUUU`?"
   ]
  },
  {
   "cell_type": "code",
   "execution_count": 25,
   "metadata": {},
   "outputs": [
    {
     "name": "stdout",
     "output_type": "stream",
     "text": [
      "AAAUUU  complement:  TTTAAA\n"
     ]
    }
   ],
   "source": [
    "rna2 = 'AAAUUU'\n",
    "print(rna2, ' complement: ', complement(rna2))"
   ]
  },
  {
   "cell_type": "markdown",
   "metadata": {},
   "source": [
    "The complement sequence `TTTAAA` returned is a DNA sequence but is this what is wanted? An RNA sequence (with **`U`**s in place of **`T`s**) might make more sense? We cannot be sure and need to know whether the user wants a DNA or RNA sequence..\n",
    "\n",
    "So write a new function `rna_complement` that returns an RNA sequence given an input DNA or RNA sequence. \n",
    "N.B. do not copy and paste your existing complement function to do this!"
   ]
  },
  {
   "cell_type": "code",
   "execution_count": 26,
   "metadata": {},
   "outputs": [],
   "source": [
    "# Instruction: write rna_complement function \n",
    "def rna_complement(sequence, reverse=False):\n",
    "    \"\"\" returns the RNA complement or reverse complement of an input DNA or RNA sequence string.\n",
    "    \n",
    "    If reverse is True then the reverse complement is returned (to give the sequence\n",
    "    of the complement strand in the normal 5' to 3' direction\n",
    "    \n",
    "    The complement replaces bases, according to the table:\n",
    "    \n",
    "    Base | Replacement\n",
    "    -----+-----------\n",
    "     A   |  U\n",
    "     U   |  A\n",
    "     G   |  C\n",
    "     C   |  G\n",
    "     T   |  A\n",
    "    letters that are not in the list AUGCT are left alone and\n",
    "    not replaced.\n",
    "    \"\"\"\n",
    "    dna_complement = complement(sequence, reverse=reverse)\n",
    "    rna_complement = dna_complement.replace('T', 'U')\n",
    "    return rna_complement"
   ]
  },
  {
   "cell_type": "code",
   "execution_count": 27,
   "metadata": {},
   "outputs": [
    {
     "name": "stdout",
     "output_type": "stream",
     "text": [
      "test rna_complement(test_rna): TEST PASS\n",
      "test rna_complement(test_rna, reverse=True): TEST PASS\n"
     ]
    }
   ],
   "source": [
    "# Instruction: your test rna_complement function by running this cell.\n",
    "test_rna         = 'AUGC'\n",
    "given_complement = 'UACG'\n",
    "given_reverse_c  = 'GCAU'\n",
    "print('test rna_complement(test_rna): ', end='')\n",
    "if rna_complement(test_rna) == given_complement:\n",
    "    print('TEST PASS')\n",
    "else:\n",
    "    print('TEST FAIL')\n",
    "    \n",
    "print('test rna_complement(test_rna, reverse=True): ', end='')\n",
    "if rna_complement(test_rna, reverse=True) == given_reverse_c:\n",
    "    print('TEST PASS')\n",
    "else:\n",
    "    print('TEST FAIL')"
   ]
  },
  {
   "cell_type": "markdown",
   "metadata": {},
   "source": [
    "**Notice** that we can reuse the complement function without copy paste!\n",
    "\n",
    "Question: an alternative to having a seperate rna_complement function would\n",
    "be to extend the `complement` function introducing a new optional argument `rna_result=False`. \n",
    "Do you think this would be better?"
   ]
  },
  {
   "cell_type": "markdown",
   "metadata": {},
   "source": [
    "### Optional exercise: deal with lower case letters in sequences\n",
    "\n",
    "> *Have a go at this **if you have time**.*\n",
    "\n",
    "Suppose we want to deal with DNA sequences with lower case letters like:\n",
    "```\n",
    "tata_oligo = 'ctgcTATAAAaggctg'\n",
    "```\n",
    "the complement sequence should preserve the upper/lower case for each letter.\n",
    "So our sequence:\n",
    "```\n",
    "tata_oligo = 'ctgcTATAAAaggctg'\n",
    "tata_compl = 'gacgATATTTtccgac'\n",
    "```\n",
    "\n",
    "(See https://www.bioinformatics.org/sms/rev_comp.html for a tool that does this).\n",
    "\n",
    "What happens with our current complement function"
   ]
  },
  {
   "cell_type": "code",
   "execution_count": 28,
   "metadata": {},
   "outputs": [
    {
     "name": "stdout",
     "output_type": "stream",
     "text": [
      "tata_oligo =ctgcTATAAAaggctg\n",
      "tata_compl =CTGCATATTTAGGCTG\n"
     ]
    }
   ],
   "source": [
    "# Instruction: test current complement \n",
    "tata_oligo = 'ctgcTATAAAaggctg'\n",
    "tata_compl = complement(tata_oligo)\n",
    "print('tata_oligo =' + tata_oligo)\n",
    "print('tata_compl =' + tata_compl)"
   ]
  },
  {
   "cell_type": "markdown",
   "metadata": {},
   "source": [
    "Question: what does the current `complement` function do with lower case? \n",
    "\n",
    "Answer: **because our complement function uses lower case letters in the conversion it produces completely wrong result**"
   ]
  },
  {
   "cell_type": "markdown",
   "metadata": {},
   "source": [
    "How can you fix the procedure?\n",
    "\n",
    "Hint: possible solutions:\n",
    "* use a for loop to go through the sequence and substitute letter by letter \n",
    "* use the Python translate method as explained at https://www.tutorialspoint.com/python/string_translate.htm and demonstrated here."
   ]
  },
  {
   "cell_type": "code",
   "execution_count": 29,
   "metadata": {},
   "outputs": [
    {
     "name": "stdout",
     "output_type": "stream",
     "text": [
      "1234efg. The qui3k 2rown fox jumps over the l1zy 4og!\n"
     ]
    }
   ],
   "source": [
    "# Instruction: run this cell for a demonstration of \n",
    "# String translate in Python3\n",
    "# want to replace all a's with 1, all b's to 2, \n",
    "# all c's to 3, all d's to 4. Leaving all other characters alone\n",
    "work_on_chars = 'abcd'\n",
    "translate__to = '1234'\n",
    "abcd_to_1234 = str.maketrans(work_on_chars,translate__to)\n",
    "test_string = 'abcdefg. The quick brown fox jumps over the lazy dog!'\n",
    "translate_string = test_string.translate(abcd_to_1234)\n",
    "print(translate_string)"
   ]
  },
  {
   "cell_type": "markdown",
   "metadata": {},
   "source": [
    "**My solution using Python translate:**"
   ]
  },
  {
   "cell_type": "code",
   "execution_count": 30,
   "metadata": {
    "collapsed": true
   },
   "outputs": [],
   "source": [
    "# Instruction: produce a complement function that preserves \n",
    "# the upper/lower case of the input sequence.\n",
    "def complement(sequence, reverse=False, rna=False):\n",
    "    \"\"\"returns the DNA complement or reverse complement of an\n",
    "    input DNA or RNA sequence string.\n",
    "    \n",
    "    supports lower case letters.\n",
    "    \"\"\"\n",
    "    base_in = 'ATGCUatgcu'\n",
    "    base_to = 'TACGAtacga'\n",
    "    complement_translate = str.maketrans(base_in, base_to)\n",
    "    complement = sequence.translate(complement_translate)\n",
    "    if reverse:\n",
    "        complement = complement[::-1]\n",
    "    if rna:\n",
    "        complement = complement.replace('T', 'U')\n",
    "        complement = complement.replace('t', 'u')\n",
    "    return complement"
   ]
  },
  {
   "cell_type": "code",
   "execution_count": 31,
   "metadata": {},
   "outputs": [
    {
     "name": "stdout",
     "output_type": "stream",
     "text": [
      "tata_oligo =ctgcTATAAAaggctg\n",
      "tata_compl =gacgATATTTtccgac\n",
      "test passes\n"
     ]
    }
   ],
   "source": [
    "# Instruction: test new complement function.\n",
    "tata_oligo = 'ctgcTATAAAaggctg'\n",
    "know_compl = 'gacgATATTTtccgac'\n",
    "tata_compl = complement(tata_oligo)\n",
    "print('tata_oligo =' + tata_oligo)\n",
    "print('tata_compl =' + tata_compl)\n",
    "if tata_compl != know_compl:\n",
    "    print('error!')\n",
    "else:\n",
    "    print('test passes')"
   ]
  },
  {
   "cell_type": "markdown",
   "metadata": {},
   "source": [
    "**A long winded solution using a for loop and if elif etc.**"
   ]
  },
  {
   "cell_type": "code",
   "execution_count": 32,
   "metadata": {
    "collapsed": true
   },
   "outputs": [],
   "source": [
    "def complement(sequence, reverse=False, rna=False):\n",
    "    \"\"\"returns the DNA complement or reverse complement of an\n",
    "    input DNA or RNA sequence string.\n",
    "    \n",
    "    supports lower case letters.\n",
    "    \"\"\"\n",
    "    complement = ''  # it would be more efficient to use a list!\n",
    "    for base in sequence:\n",
    "        if base.islower():\n",
    "            base_lower = True\n",
    "        else:\n",
    "            base_lower = False\n",
    "        base = base.upper()\n",
    "        if base == 'A':\n",
    "            comp_base = 'T'\n",
    "        elif base == 'T':\n",
    "            comp_base = 'A'\n",
    "        elif base == 'G':\n",
    "            comp_base = 'C'\n",
    "        elif base == 'C':\n",
    "            comp_base = 'G'\n",
    "        else:\n",
    "            comp_base = base\n",
    "        if base_lower:\n",
    "            comp_base = comp_base.lower()\n",
    "        complement += comp_base         \n",
    "    if reverse:\n",
    "        complement = complement[::-1]\n",
    "    if rna:\n",
    "        complement = complement.replace('T', 'U')\n",
    "        complement = complement.replace('t', 'u')\n",
    "    return complement"
   ]
  },
  {
   "cell_type": "code",
   "execution_count": 33,
   "metadata": {},
   "outputs": [
    {
     "name": "stdout",
     "output_type": "stream",
     "text": [
      "gacgATATTTtccgac\n"
     ]
    }
   ],
   "source": [
    "# quick test should print gacgATATTTtccgac\n",
    "print(complement(tata_oligo))"
   ]
  },
  {
   "cell_type": "markdown",
   "metadata": {},
   "source": [
    "**My solution using a for loop and a Python dictionary**"
   ]
  },
  {
   "cell_type": "code",
   "execution_count": 34,
   "metadata": {},
   "outputs": [],
   "source": [
    "def complement(sequence, reverse=False, rna=False):\n",
    "    \"\"\"returns the DNA complement or reverse complement of an\n",
    "    input DNA or RNA sequence string.\n",
    "    \n",
    "    supports lower case letters.\n",
    "    \"\"\"\n",
    "    complement_dict = {'A':'T', 'T':'A', 'G':'C', 'C':'G', 'U':'A',\n",
    "                       'a':'t', 't':'a', 'g':'c', 'c':'g', 'u':'a'}\n",
    "    seq_comp = []\n",
    "    for base in sequence:\n",
    "        seq_comp.append(complement_dict.get(base,base))\n",
    "    complement = ''.join(seq_comp)\n",
    "    if reverse:\n",
    "        complement = complement[::-1]\n",
    "    if rna:\n",
    "        complement = complement.replace('T', 'U')\n",
    "        complement = complement.replace('t', 'u')\n",
    "    return complement"
   ]
  },
  {
   "cell_type": "code",
   "execution_count": 35,
   "metadata": {},
   "outputs": [
    {
     "name": "stdout",
     "output_type": "stream",
     "text": [
      "gacgATATTTtccgac\n"
     ]
    }
   ],
   "source": [
    "# quick test should print gacgATATTTtccgac\n",
    "print(complement(tata_oligo))"
   ]
  },
  {
   "cell_type": "markdown",
   "metadata": {},
   "source": [
    "### Optional exercise: deal with Ambiguity codes\n",
    "\n",
    "> *Have a go at this **if you have time**.*\n",
    "\n",
    "* See http://reverse-complement.com/ambiguity.html \n",
    "* extend your code to deal with ambituity codes\n",
    "* compare results against http://reverse-complement.com/ and http://arep.med.harvard.edu/labgc/adnan/projects/Utilities/revcomp.html"
   ]
  },
  {
   "cell_type": "code",
   "execution_count": 36,
   "metadata": {
    "collapsed": true
   },
   "outputs": [],
   "source": [
    "# my solution \n",
    "def complement(sequence, reverse=False, rna=False):\n",
    "    \"\"\"returns the DNA complement or reverse complement of an\n",
    "    input DNA or RNA sequence string.\n",
    "    \n",
    "    supports lower case letters and Ambiguity codes from\n",
    "    http://reverse-complement.com/ambiguity.html\n",
    "    \"\"\"\n",
    "    base_in = 'AGCTURYSWKMBVDH'\n",
    "    base_to = 'TCGAAYRSWMKVBHD'\n",
    "    base_in = base_in + base_in.lower()\n",
    "    base_to = base_to + base_to.lower()\n",
    "    complement_translate = str.maketrans(base_in, base_to)\n",
    "    complement = sequence.translate(complement_translate)\n",
    "    if reverse:\n",
    "        complement = complement[::-1]\n",
    "    if rna:\n",
    "        complement = complement.replace('T', 'U')\n",
    "        complement = complement.replace('t', 'u')\n",
    "    return complement"
   ]
  },
  {
   "cell_type": "code",
   "execution_count": 37,
   "metadata": {},
   "outputs": [
    {
     "name": "stdout",
     "output_type": "stream",
     "text": [
      "gacgATATTTtccgac\n"
     ]
    }
   ],
   "source": [
    "# quick test should print gacgATATTTtccgac\n",
    "print(complement(tata_oligo))"
   ]
  },
  {
   "cell_type": "code",
   "execution_count": 38,
   "metadata": {},
   "outputs": [
    {
     "name": "stdout",
     "output_type": "stream",
     "text": [
      "test reverse complement of all ascii letters\n",
      "input:   abcdefghijklmnopqrstuvwxyzABCDEFGHIJKLMNOPQRSTUVWXYZ\n",
      "expect:  ZRXWBAASYQPONKLMJIDCFEHGVTzrxwbaasyqponklmjidcfehgvt\n",
      "get:     ZRXWBAASYQPONKLMJIDCFEHGVTzrxwbaasyqponklmjidcfehgvt\n",
      "TEST PASSES\n"
     ]
    }
   ],
   "source": [
    "# test sequence of all lower and upper case letters\n",
    "import string \n",
    "letters = string.ascii_letters\n",
    "# from http://reverse-complement.com/\n",
    "# reverse complement of:\n",
    "# abcdefghijklmnopqrstuvwxyzABCDEFGHIJKLMNOPQRSTUVWXYZ\n",
    "# is:\n",
    "# ZRXWBAASYQPONKLMJIDCFEHGVTzrxwbaasyqponklmjidcfehgvt\n",
    "expect = 'ZRXWBAASYQPONKLMJIDCFEHGVTzrxwbaasyqponklmjidcfehgvt'\n",
    "print('test reverse complement of all ascii letters')\n",
    "print('input:  ', letters)\n",
    "print('expect: ', expect)\n",
    "get = complement(sequence=letters, reverse=True)\n",
    "print('get:    ', get)\n",
    "if get == expect:\n",
    "    print('TEST PASSES')\n",
    "else:\n",
    "    print('TEST FAILS')"
   ]
  },
  {
   "cell_type": "markdown",
   "metadata": {},
   "source": [
    "## Homework D: Write your own functions\n",
    "Now go on and complete the [homework D](./ex_D_homework.ipynb)"
   ]
  },
  {
   "cell_type": "code",
   "execution_count": null,
   "metadata": {
    "collapsed": true
   },
   "outputs": [],
   "source": []
  }
 ],
 "metadata": {
  "kernelspec": {
   "display_name": "Python 3",
   "language": "python",
   "name": "python3"
  },
  "language_info": {
   "codemirror_mode": {
    "name": "ipython",
    "version": 3
   },
   "file_extension": ".py",
   "mimetype": "text/x-python",
   "name": "python",
   "nbconvert_exporter": "python",
   "pygments_lexer": "ipython3",
   "version": "3.6.3"
  }
 },
 "nbformat": 4,
 "nbformat_minor": 2
}
