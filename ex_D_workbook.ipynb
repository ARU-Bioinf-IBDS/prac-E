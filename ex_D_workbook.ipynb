{
 "cells": [
  {
   "cell_type": "markdown",
   "metadata": {},
   "source": [
    "# workbook D: Writing your own functions\n",
    "\n",
    "Before starting this exercise you should work through\n",
    "\n",
    "*  *Chapter 1 Writing your own functions*\n",
    "\n",
    "from the\n",
    "[DataCamp online course: Python Data Science Toolbox (Part 1)\n",
    "](https://campus.datacamp.com/courses/python-data-science-toolbox-part-1/).\n",
    "\n",
    "We will then use what you have learnt there to explore how biological\n",
    "data can be handled in Python."
   ]
  },
  {
   "cell_type": "markdown",
   "metadata": {
    "collapsed": true
   },
   "source": [
    "> ### Reminder: saving your work\n",
    ">\n",
    "> As you work through the work book it is important to regularly save your work. Notice that as you have made  changes the Jupyter window top line will warn you there are `(unsaved changes)` in small text. To save your work in this notebook by either select menu item `File` `Save` or by hit the save button:\n",
    "> \n",
    "> <img src=\"./images/save_button.png\"/>\n",
    ">\n",
    "> \n",
    "> ### Reminder: getting help \n",
    "> Please see the page:\n",
    "> [Help with programming](https://canvas.anglia.ac.uk/courses/1490/pages/help-with-programming)\n",
    "> on ARU Canvas."
   ]
  },
  {
   "cell_type": "markdown",
   "metadata": {},
   "source": [
    "## Python functions: built-in functions\n",
    "\n",
    "We have been using already been using Python's in-built functions a lot: "
   ]
  },
  {
   "cell_type": "code",
   "execution_count": 10,
   "metadata": {},
   "outputs": [
    {
     "name": "stdout",
     "output_type": "stream",
     "text": [
      "to find the length of a string len(\"a string\")= 8\n",
      "to the type of the \"species\" variable use type(species)= <class 'list'>\n"
     ]
    }
   ],
   "source": [
    "# Instruction: run this cell to see built in functions we have been using\n",
    "print('to find the length of a string len(\"a string\")=', len('a string'))\n",
    "species = ['dog', 'cat', 'mule']\n",
    "print('to the type of the \"species\" variable use type(species)=', type(species))"
   ]
  },
  {
   "cell_type": "markdown",
   "metadata": {},
   "source": [
    "Great thing about these functions is that\n",
    "* we do not need to worry about how they work\n",
    "* they produce code that is easy to read - it is obvious `len(snips_list)` will produce a number that equals the number of items in the `snips_list`\n",
    "* and that it is easy to get help about how they work: for instance to get help on the len function:"
   ]
  },
  {
   "cell_type": "code",
   "execution_count": 11,
   "metadata": {},
   "outputs": [
    {
     "name": "stdout",
     "output_type": "stream",
     "text": [
      "Help on built-in function len in module builtins:\n",
      "\n",
      "len(obj, /)\n",
      "    Return the number of items in a container.\n",
      "\n"
     ]
    }
   ],
   "source": [
    "# Instruction: run this cell to get help on the len() function\n",
    "help(len)"
   ]
  },
  {
   "cell_type": "markdown",
   "metadata": {},
   "source": [
    "**Your turn** what does the Python built-in function `abs()` do?"
   ]
  },
  {
   "cell_type": "code",
   "execution_count": 12,
   "metadata": {
    "collapsed": true
   },
   "outputs": [],
   "source": [
    "# Instruction: write Python expression to find out what abs function does\n",
    "### your Python code"
   ]
  },
  {
   "cell_type": "markdown",
   "metadata": {},
   "source": [
    "Now print out the abs function for -15 and -123.5 and 7"
   ]
  },
  {
   "cell_type": "code",
   "execution_count": 13,
   "metadata": {
    "collapsed": true
   },
   "outputs": [],
   "source": [
    "# Instruction: print out the abs function for -15 and -123.5 and 7\n",
    "### your Python code"
   ]
  },
  {
   "cell_type": "markdown",
   "metadata": {},
   "source": [
    "## Homework D: Write your own functions\n",
    "Now go on and complete the [homework D](./ex_D_homework.ipynb)"
   ]
  }
 ],
 "metadata": {
  "kernelspec": {
   "display_name": "Python 3",
   "language": "python",
   "name": "python3"
  },
  "language_info": {
   "codemirror_mode": {
    "name": "ipython",
    "version": 3
   },
   "file_extension": ".py",
   "mimetype": "text/x-python",
   "name": "python",
   "nbconvert_exporter": "python",
   "pygments_lexer": "ipython3",
   "version": "3.6.3"
  }
 },
 "nbformat": 4,
 "nbformat_minor": 2
}
