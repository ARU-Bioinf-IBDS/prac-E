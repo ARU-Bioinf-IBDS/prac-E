{
 "cells": [
  {
   "cell_type": "markdown",
   "metadata": {},
   "source": [
    "# workbook D: Writing your own functions\n",
    "\n",
    "Before starting this exercise you should work through\n",
    "\n",
    "*  *Chapter 1 Writing your own functions*\n",
    "\n",
    "from the\n",
    "[DataCamp online course: Python Data Science Toolbox (Part 1)\n",
    "](https://campus.datacamp.com/courses/python-data-science-toolbox-part-1/).\n",
    "\n",
    "We will then use what you have learnt there to explore how biological\n",
    "data can be handled in Python."
   ]
  },
  {
   "cell_type": "markdown",
   "metadata": {
    "collapsed": true
   },
   "source": [
    "> ### Reminder: saving your work\n",
    ">\n",
    "> As you work through the work book it is important to regularly save your work. Notice that as you have made  changes the Jupyter window top line will warn you there are `(unsaved changes)` in small text. To save your work in this notebook by either select menu item `File` `Save` or by hit the save button:\n",
    "> \n",
    "> <img src=\"./images/save_button.png\"/>\n",
    ">\n",
    "> \n",
    "> ### Reminder: getting help \n",
    "> Please see the page:\n",
    "> [Help with programming](https://canvas.anglia.ac.uk/courses/1490/pages/help-with-programming)\n",
    "> on ARU Canvas."
   ]
  },
  {
   "cell_type": "markdown",
   "metadata": {},
   "source": [
    "## Python functions: built-in functions\n",
    "\n",
    "We have been using already been using Python's in-built functions a lot: "
   ]
  },
  {
   "cell_type": "code",
   "execution_count": null,
   "metadata": {},
   "outputs": [],
   "source": [
    "# Instruction: run this cell to see built in functions we have been using\n",
    "print('to find the length of a string len(\"a string\")=', len('a string'))\n",
    "species = ['dog', 'cat', 'mule']\n",
    "print('to the type of the \"species\" variable use type(species)=', type(species))"
   ]
  },
  {
   "cell_type": "markdown",
   "metadata": {},
   "source": [
    "Great thing about these functions is that\n",
    "* we do not need to worry about how they work\n",
    "* they produce code that is easy to read - it is obvious `len(snips_list)` will produce a number that equals the number of items in the `snips_list`\n",
    "* and that it is easy to get help about how they work: for instance to get help on the len function:"
   ]
  },
  {
   "cell_type": "code",
   "execution_count": null,
   "metadata": {},
   "outputs": [],
   "source": [
    "# Instruction: run this cell to get help on the len() function\n",
    "help(len)"
   ]
  },
  {
   "cell_type": "markdown",
   "metadata": {},
   "source": [
    "**Your turn** what does the Python built-in function `abs()` do?"
   ]
  },
  {
   "cell_type": "code",
   "execution_count": null,
   "metadata": {
    "collapsed": true
   },
   "outputs": [],
   "source": [
    "# Instruction: write Python expression to find out what abs function does\n",
    "### your Python code"
   ]
  },
  {
   "cell_type": "markdown",
   "metadata": {},
   "source": [
    "Now print out the abs function for -15 and -123.5 and 7"
   ]
  },
  {
   "cell_type": "code",
   "execution_count": null,
   "metadata": {
    "collapsed": true
   },
   "outputs": [],
   "source": [
    "# Instruction: print out the abs function for the input -15 and -123.5 and 7\n",
    "### your Python code"
   ]
  },
  {
   "cell_type": "markdown",
   "metadata": {},
   "source": [
    "## Writing a function\n",
    "\n",
    "Built-in functions are really useful but we clearly need to be able to produce our own functions for bioinformatics and data science.\n",
    "\n",
    "As you have already seen in the [DataCamp online course: Python Data Science Toolbox (Part 1)\n",
    "](https://campus.datacamp.com/courses/python-data-science-toolbox-part-1/) writing a function is simple:"
   ]
  },
  {
   "cell_type": "code",
   "execution_count": null,
   "metadata": {
    "collapsed": true
   },
   "outputs": [],
   "source": [
    "# Instruction: run this cell containing an example function called double\n",
    "def double(number):\n",
    "    \"\"\"\n",
    "    returns doubles the input number.\n",
    "    \n",
    "    Note: this is a docstring describing what function does. \n",
    "    It is can have more than one line!\n",
    "    \"\"\"\n",
    "    double_number = 2*number\n",
    "    return double_number"
   ]
  },
  {
   "cell_type": "markdown",
   "metadata": {},
   "source": [
    "When you ran the cell notice that no output was produced. But the Jupyter Notebook kernel now knows there is a function called `double`.\n",
    "* It has a single **argument** called `number`. \n",
    "* the function definition starts with a header line starting `def` and ending with a colon `:`\n",
    "* the function is then indented with 4 spaces (in the same way as `if` and `for`).\n",
    "* The first thing in a function should be a **docstring** that is surrounded by triple double quotation marks.\n",
    "* The **docstring** can have more than one line.\n",
    "* this function returns a single value with a **return** statement.\n",
    "\n",
    "The function can be called:"
   ]
  },
  {
   "cell_type": "code",
   "execution_count": null,
   "metadata": {},
   "outputs": [],
   "source": [
    "# Instruction: run this cell to show running the double function \n",
    "print(double(2))\n",
    "print(double(-1975.13))"
   ]
  },
  {
   "cell_type": "markdown",
   "metadata": {},
   "source": [
    "The docstring help message can be accessed:"
   ]
  },
  {
   "cell_type": "code",
   "execution_count": null,
   "metadata": {},
   "outputs": [],
   "source": [
    "help(double)"
   ]
  },
  {
   "cell_type": "markdown",
   "metadata": {},
   "source": [
    "**Now it is your turn!**\n",
    "\n",
    "Write a function that returns the number of G and C bases in a given sequence.\n",
    "\n",
    "First think what would be a good name for the function. The Python convention is\n",
    "that function names are lower case with words separated by underscores - so lets call\n",
    "it `number_gc`"
   ]
  },
  {
   "cell_type": "code",
   "execution_count": null,
   "metadata": {
    "collapsed": true
   },
   "outputs": [],
   "source": [
    "# Instruction: write a function thats returns the number of G and C bases in a given sequence.\n",
    "def ___(___):   ### replace the ____\n",
    "    \"\"\"docstring describing the function\"\"\"\n",
    "    return ____ ### replace the ____"
   ]
  },
  {
   "cell_type": "markdown",
   "metadata": {},
   "source": [
    "Now we need to test the `number_gc` function works\n",
    "\n",
    "First complete this table \n",
    "\n",
    "> you will need to edit this Markdown cell to do this double click on the cell \n",
    "> and then replace the ? in the table below. When you have finished run the cell\n",
    "> with the run button above\n",
    "\n",
    "| **test sequence** | **number of G and C** |\n",
    "| ----------------- | :-------------------: |\n",
    "| G   | 1 |\n",
    "| C   | 1 |\n",
    "| AAA | 0 |\n",
    "| GGG | ? |\n",
    "| CAT | ? |\n",
    "| GAC | ? |\n",
    "| GGGAAACCCTTT | ? |"
   ]
  },
  {
   "cell_type": "code",
   "execution_count": null,
   "metadata": {
    "collapsed": true
   },
   "outputs": [],
   "source": [
    "# Instruction: test the number_gc function with the data from the completed table above."
   ]
  },
  {
   "cell_type": "markdown",
   "metadata": {},
   "source": [
    "## Homework D: Write your own functions\n",
    "Now go on and complete the [homework D](./ex_D_homework.ipynb)"
   ]
  },
  {
   "cell_type": "code",
   "execution_count": null,
   "metadata": {
    "collapsed": true
   },
   "outputs": [],
   "source": []
  }
 ],
 "metadata": {
  "kernelspec": {
   "display_name": "Python 3",
   "language": "python",
   "name": "python3"
  },
  "language_info": {
   "codemirror_mode": {
    "name": "ipython",
    "version": 3
   },
   "file_extension": ".py",
   "mimetype": "text/x-python",
   "name": "python",
   "nbconvert_exporter": "python",
   "pygments_lexer": "ipython3",
   "version": "3.6.3"
  }
 },
 "nbformat": 4,
 "nbformat_minor": 2
}
