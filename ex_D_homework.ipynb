{
 "cells": [
  {
   "cell_type": "markdown",
   "metadata": {},
   "source": [
    "# homework C: Conditional tests and loops\n",
    "\n",
    "Make sure you have worked through [workbook C](./ex_C_workbook.ipynb) before tackling this homework."
   ]
  },
  {
   "cell_type": "markdown",
   "metadata": {
    "collapsed": true
   },
   "source": [
    "## *(i)* Using if elif else to work out the complementary base\n",
    "\n",
    "In homework A we worked on finding the complement of a DNA sequence:\n",
    "```\n",
    "5'-AAAATTTGGC-3'\n",
    "   ||||||||||\n",
    "3'-TTTTAAACCG-5'\n",
    "```\n",
    "The complement of the sequence `TTTTAAACCG` is shown at the bottom.\n",
    "\n",
    "Your task is now is work out the complement of a single base according to the table:\n",
    "\n",
    "| base   | complement |\n",
    "| :----: | :--------: |\n",
    "| A | T |\n",
    "| T | A |\n",
    "| G | C |\n",
    "| C | G |"
   ]
  },
  {
   "cell_type": "code",
   "execution_count": null,
   "metadata": {},
   "outputs": [],
   "source": [
    "# Instruction: write if elif elif elif code to work out complement for base\n",
    "\n",
    "base = 'A'  # alter this line to try different bases,\n",
    "complement = 'to be written'\n",
    "\n",
    "### your Python code lines with if elif ... here\n",
    "\n",
    "print('base:\"{}\" has complement:\"{}\"'.format(base, complement))"
   ]
  },
  {
   "cell_type": "markdown",
   "metadata": {},
   "source": [
    "### dealing with errors\n",
    "what should happens if the procedure is supplied with a base variable that is something other than `A`, `T`, `G` or `C`, such as `S`. \n",
    "Ideally, the program should terminate with a sensible error message letting the user know that the procedure cannot cope with the input.\n",
    "In Python the best way to deal with such errors is to *raise an exception* this causes the script to terminate with a message (unless it is coded to deal with the exception - you will learn about this latter). \n",
    "\n",
    "In this case it is appropriate to *raise* a *ValueError*"
   ]
  },
  {
   "cell_type": "code",
   "execution_count": null,
   "metadata": {},
   "outputs": [],
   "source": [
    "# Instruction: run this cell to see how to raise a ValueError\n",
    "raise ValueError('useful message to user explaining what is wrong')"
   ]
  },
  {
   "cell_type": "code",
   "execution_count": null,
   "metadata": {},
   "outputs": [],
   "source": [
    "# Instruction: copy your Python from above and extend it \n",
    "# to raise a ValueError for unrecognized bases.\n",
    "\n",
    "base = 'W'  # alter this line to try different bases,\n",
    "\n",
    "### your Python code lines from above.\n",
    "\n",
    "print('base:\"{}\" has complement:\"{}\"'.format(base, complement))"
   ]
  },
  {
   "cell_type": "markdown",
   "metadata": {},
   "source": [
    "## *(ii)* Reversing a string using a for loop\n",
    "\n",
    "In exercise B and homework B we saw the easy way to reverse a string is to use a special slice with an increment of minus -1:"
   ]
  },
  {
   "cell_type": "code",
   "execution_count": null,
   "metadata": {},
   "outputs": [],
   "source": [
    "# Instruction: run this cell to see how to reverse a string \n",
    "# using string slice with increment -1\n",
    "example = 'abcdefghijklmn'\n",
    "example_reverse = example[::-1]\n",
    "print('example_reverse = ' + example_reverse)"
   ]
  },
  {
   "cell_type": "markdown",
   "metadata": {},
   "source": [
    "Now lets get practice on using for loops to reverse a string.\n",
    "\n",
    "Start by looking at the next example that builds up a sequence where each base\n",
    "in the original sequence is repeated twice."
   ]
  },
  {
   "cell_type": "code",
   "execution_count": null,
   "metadata": {},
   "outputs": [],
   "source": [
    "# Instruction: run this cell to see how to use a for\n",
    "# loop to iterate through a string building up a resulting\n",
    "sequence = 'ATGC'  # alter this line to try different sequences,\n",
    "double_sequence = ''  # the empty string\n",
    "for base in sequence:\n",
    "    double_sequence = double_sequence + base + base\n",
    "print(double_sequence)"
   ]
  },
  {
   "cell_type": "code",
   "execution_count": null,
   "metadata": {},
   "outputs": [],
   "source": [
    "# Instruction: adapt the procedure in the previous cell\n",
    "# to reverse a sequence using a for loop.\n",
    "sequence = 'ATGC'  # alter this line to try different sequences\n",
    "reverse_sequence = ''  # the empty string\n",
    "\n",
    "# your code here.\n",
    "\n",
    "print(double_sequence)"
   ]
  },
  {
   "cell_type": "markdown",
   "metadata": {},
   "source": [
    "## *(iii)* Working out the complement of a sequence using a for loop\n",
    "\n",
    "In part *(i)* of this exercise you worked out how to work out the complementary base for a given DNA base.\n",
    "\n",
    "Now reuse the code from part *(i)* to work out the complement of a given DNA sequence using a similar approach to part *(ii)*:"
   ]
  },
  {
   "cell_type": "code",
   "execution_count": null,
   "metadata": {},
   "outputs": [],
   "source": [
    "# Instruction: use the if elif elif code to work out complement\n",
    "sequence = 'ATGC'\n",
    "seq_comp = ''  # the empty string\n",
    "for base in sequence:\n",
    "    # add your code here and alter the next line\n",
    "    seq_comp += 'x'  # alter this line!\n",
    "print('sequence:   ' + sequence)\n",
    "print('complement: ' + seq_comp)"
   ]
  },
  {
   "cell_type": "markdown",
   "metadata": {},
   "source": [
    "> *Hint: you will have to be careful of the indentation in your code - look at the following example"
   ]
  },
  {
   "cell_type": "code",
   "execution_count": null,
   "metadata": {},
   "outputs": [],
   "source": [
    "# Instruction: run this hint to show \n",
    "# testing letters from a string in for loop\n",
    "sentence = 'Hello, world.'\n",
    "for letter in sentence:\n",
    "    if letter in 'aeiou':\n",
    "        print(letter + ': vowel')\n",
    "    elif letter.isalpha():\n",
    "        print(letter + ': consonant')\n",
    "    else:\n",
    "        print(letter + ': other')"
   ]
  },
  {
   "cell_type": "markdown",
   "metadata": {},
   "source": [
    "## *(iv)* Working out the reverse complement of a sequence using a for loop\n",
    "\n",
    "Now combined the code you have written in parts *(ii)* and *(iii)* to work out the reverse complement.\n",
    "\n",
    "If you prefer you can use a single or two separate for loops."
   ]
  },
  {
   "cell_type": "code",
   "execution_count": null,
   "metadata": {},
   "outputs": [],
   "source": [
    "# Instruction: combine code from parts (ii)\n",
    "sequence = 'ATGC'\n",
    "rev_comp = ''  # the empty string\n",
    "for base in sequence:\n",
    "    # add your code here and alter the next line\n",
    "    rev_comp += 'x'  # alter this line!\n",
    "print('sequence:           ' + sequence)\n",
    "print('reverse complement: ' + rev_comp)"
   ]
  },
  {
   "cell_type": "markdown",
   "metadata": {},
   "source": [
    "## *(v)* finding the reverse complement of a number of sequences.\n",
    "\n",
    "Suppose instead of finding the reverse complement of a single sequence we wanted to find the reverse complement for the following list of sequences:\n",
    "\n",
    "* `T`\n",
    "* `AG`\n",
    "* `CT`\n",
    "* `AAAATTTGGC`\n",
    "* `GCCAAATTTT`\n",
    "* `CTGCTATAAAAGGCTG`\n",
    "\n",
    "Once again we can use a for loop to go through the sequences and run your procedure against each one (you will have to be careful with the identation):"
   ]
  },
  {
   "cell_type": "code",
   "execution_count": null,
   "metadata": {},
   "outputs": [],
   "source": [
    "# Instruction: use your code from part (iv) to work out\n",
    "# the reverse complement for each of the sequences.\n",
    "test_seqs = ['T', 'AG', 'CT', \n",
    "             'AAAATTTGGC',\n",
    "             'GCCAAATTTT', \n",
    "             'CTGCTATAAAAGGCTG']\n",
    "for sequence in test_seqs:\n",
    "    # insert your code here.\n",
    "    rev_comp = '***TO_BE_WRITTEN***' # replace this line\n",
    "    print()\n",
    "    print('sequence:           ' + sequence)\n",
    "    print('reverse complement: ' + rev_comp)"
   ]
  },
  {
   "cell_type": "markdown",
   "metadata": {},
   "source": [
    "## *(vi)* testing your reverse complement procedure with a number of sequences.\n",
    "\n",
    "In programming writing code tests is very important. We will be looking at this in more depth later in this module. For now lets test your procedure against a list that of items each of which has a sequence and its reverse compliment that has been worked out by hand:"
   ]
  },
  {
   "cell_type": "code",
   "execution_count": null,
   "metadata": {},
   "outputs": [],
   "source": [
    "# Instruction: run this cell to see the data you need to use in the test.\n",
    "test_seqs_and_rev_comp = [('A', 'T'), \n",
    "                          ('T', 'A'), \n",
    "                          ('G', 'C'), \n",
    "                          ('C', 'G'), \n",
    "                          ('AA', 'TT'), \n",
    "                          ('AT', 'AT'), \n",
    "                          ('AG', 'CT'), \n",
    "                          ('AC', 'GT'), \n",
    "                          ('TTT', 'AAA'), \n",
    "                          ('ATT', 'AAT'), \n",
    "                          ('TAT', 'ATA'), \n",
    "                          ('TTA', 'TAA'), \n",
    "                          ('TTT', 'AAA'), \n",
    "                          ('GTT', 'AAC'), \n",
    "                          ('TGT', 'ACA'), \n",
    "                          ('TTG', 'CAA'), \n",
    "                          ('AAAATTTGGC', 'GCCAAATTTT'), \n",
    "                          ('GCCAAATTTT', 'AAAATTTGGC'), \n",
    "                          ('CTGCTATAAAAGGCTG', 'CAGCCTTTTATAGCAG'), \n",
    "                          ( 200*'A'+ 100*'GT', 100*'AC' + 200*'T')]\n",
    "for test_seq, given_rev_comp in test_seqs_and_rev_comp:\n",
    "    print('test sequence:                  test_seq= ' + test_seq )\n",
    "    print('given reverse complement: given_rev_comp= ' + given_rev_comp)"
   ]
  },
  {
   "cell_type": "markdown",
   "metadata": {},
   "source": [
    "Now you should adapt the code in the next cell to test that your procedure for working out the reverse complement produces the expected result for every case."
   ]
  },
  {
   "cell_type": "code",
   "execution_count": null,
   "metadata": {
    "collapsed": true
   },
   "outputs": [],
   "source": [
    "# Instruction: test your code from part (iv) to work out\n",
    "# the reverse complement for each of the sequences.\n",
    "test_seqs_and_rev_comp = [('A', 'T'), \n",
    "                          ('T', 'A'), \n",
    "                          ('G', 'C'), \n",
    "                          ('C', 'G'), \n",
    "                          ('AA', 'TT'), \n",
    "                          ('AT', 'AT'), \n",
    "                          ('AG', 'CT'), \n",
    "                          ('AC', 'GT'), \n",
    "                          ('TTT', 'AAA'), \n",
    "                          ('ATT', 'AAT'), \n",
    "                          ('TAT', 'ATA'), \n",
    "                          ('TTA', 'TAA'), \n",
    "                          ('TTT', 'AAA'), \n",
    "                          ('GTT', 'AAC'), \n",
    "                          ('TGT', 'ACA'), \n",
    "                          ('TTG', 'CAA'), \n",
    "                          ('AAAATTTGGC', 'GCCAAATTTT'), \n",
    "                          ('GCCAAATTTT', 'AAAATTTGGC'), \n",
    "                          ('CTGCTATAAAAGGCTG', 'CAGCCTTTTATAGCAG'), \n",
    "                          ( 200*'A'+ 100*'GT', 100*'AC' + 200*'T')]\n",
    "for test_seq, given_rev_comp in test_seqs_and_rev_comp:\n",
    "    pass\n",
    "    # test that your procedure given test_seq produces a\n",
    "    # reverse complement that is the same as given_rev_comp\n",
    "    "
   ]
  },
  {
   "cell_type": "markdown",
   "metadata": {},
   "source": [
    "## Optional: closer look at the test data structure and how we go through it.\n",
    "\n",
    "> Have a go at this if you have time.\n",
    "\n",
    "In part *(vi)* you where given test data in the form:\n",
    "```\n",
    "test_seqs_and_rev_comp = [('A', 'T'), \n",
    "                          ('AG', 'CT'), \n",
    "                          ('TAT', 'ATA')]\n",
    "```\n",
    "You are familiar with the square brackets defining a Python list with each of\n",
    "the list being a pair of items: a test sequence and its complement.\n",
    "\n",
    "But you will notice the pair of items are not surrounded by normal brackets `()` rather than \n",
    "the square brackets `[]` used for lists. This defines them as a *tuple* rather than a *list*.\n",
    "\n",
    "A tuple list like a list but it is *immutable* meaning that once defined it cannot be altered - new items cannot be added, deleted or replaced:"
   ]
  },
  {
   "cell_type": "code",
   "execution_count": null,
   "metadata": {},
   "outputs": [],
   "source": [
    "# Instruction: run this cell to how tuples work\n",
    "test_seqs_and_rev_comp = [('A', 'T'), \n",
    "my_list = ['a', 'b', 'c', 'd']\n",
    "my_tuple = ('a', 'b', 'c', 'd')\n",
    "print('accessing list and tuple is similar: ')\n",
    "print('my_list= ', my_list)\n",
    "print('my_tuple=', my_list)\n",
    "print('you can access individual items:'\n",
    "      ' my_list[0] =', my_list[0], \n",
    "      ' my_tuple[-1] =', my_tuple[-1])\n",
    "print('you can use the len function on both:'\n",
    "      ' len(my_list) =', len(my_list), \n",
    "      ' len(my_tuple) =', len(my_tuple))\n",
    "print('But you can alter lists:')\n",
    "my_list.append('e') \n",
    "print('after appending a list item: my_list= ', my_list)\n",
    "my_list[-1] = 'replacement'\n",
    "print('after replacing a list item: my_list= ', my_list)\n",
    "del my_list[0:4]\n",
    "print('after deleting list items:   my_list= ', my_list)\n",
    "my_tuple.append('NOT ALLOWED')  # will fail!\n",
    "my_tuple[-1] = 'NOT ALLOWED' # will fail!\n",
    "del my_tuple[0] # will fail!"
   ]
  },
  {
   "cell_type": "markdown",
   "metadata": {},
   "source": [
    "So tuples are useful when you do not want to have a collection of things \n",
    "that should not be altered. For instance \n",
    "if you wanted to record a walking tour through Cambridge using a GPS it would\n",
    "make sense to store the latitude and longitude of each point on the route as\n",
    "a tuple. The points could then be stored as a list.\n",
    "\n",
    "For the tests we have decided to store a list of tuples:\n",
    "```\n",
    "test_data = [ (input_data, expected_output),\n",
    "              (input_data, expected_output),\n",
    "              (input_data, expected_output)\n",
    "            ]\n",
    "```\n",
    "each one of the tuples has an input and the expected output for this input.\n",
    "\n",
    "Lets suppose we had a new procedure to test that doubled an integer number and added 3 to it.\n",
    "Some test data for this could be:\n",
    "\n",
    "| input_data *n* | expected_output *2n+3* |\n",
    "| :-------: | :-------------: |\n",
    "| 0 | 3 |\n",
    "| 1 | 5 |\n",
    "| -1 | 0 |\n",
    "| 10 | 23 |\n",
    "| -1.5 | 0 |\n",
    "\n",
    "Create a `test_data` list containing tuples with the input and expected output for the *2n+3* procedure"
   ]
  },
  {
   "cell_type": "code",
   "execution_count": null,
   "metadata": {
    "collapsed": true
   },
   "outputs": [],
   "source": [
    "# Instruction: create test_data list\n",
    "# your code here"
   ]
  },
  {
   "cell_type": "markdown",
   "metadata": {},
   "source": [
    "To iterate through the `test_data`list we can take the same approach as for any list. \n",
    "Lets demonstrate with some other data:"
   ]
  },
  {
   "cell_type": "code",
   "execution_count": null,
   "metadata": {},
   "outputs": [],
   "source": [
    "# Instruction: demonstrate for loop going through a list of tuples for test_data\n",
    "my_test_data = [('a', 'A'),\n",
    "                ('cat', 'Cat'),\n",
    "                ('the rain.', 'The rain.' ),\n",
    "                ('DOG', 'DOG')]  # test data for a capitalize procedure\n",
    "for item in my_test_data:\n",
    "    print('item: ', item)"
   ]
  },
  {
   "cell_type": "markdown",
   "metadata": {},
   "source": [
    "Notice that each `item` is a tuple. We could unpack this:"
   ]
  },
  {
   "cell_type": "code",
   "execution_count": null,
   "metadata": {},
   "outputs": [],
   "source": [
    "# Instruction: run the cell to demonstrate unpacking the test_data\n",
    "my_test_data = [('a', 'A'),\n",
    "                ('cat', 'Cat'),\n",
    "                ('the rain.', 'The rain.' ),\n",
    "                ('DOG', 'DOG')]  # test data for a capitalize procedure\n",
    "for item in my_test_data:\n",
    "    input_data = item[0]\n",
    "    expected_output = item[1]\n",
    "    print('input_data:', input_data, 'expected_output:', expected_output)"
   ]
  },
  {
   "cell_type": "markdown",
   "metadata": {},
   "source": [
    "But this can be simplified by avoiding creating an item variable:"
   ]
  },
  {
   "cell_type": "code",
   "execution_count": null,
   "metadata": {},
   "outputs": [],
   "source": [
    "# Instruction: run the cell to demonstrate simplification\n",
    "my_test_data = [('a', 'A'),\n",
    "                ('cat', 'Cat'),\n",
    "                ('the rain.', 'The rain.' ),\n",
    "                ('DOG', 'DOG')]  # test data for a capitalize procedure\n",
    "for input_data, expected_output in my_test_data:\n",
    "    print('input_data:', input_data, 'expected_output:', expected_output)"
   ]
  },
  {
   "cell_type": "markdown",
   "metadata": {},
   "source": [
    "This syntax `for` loop has been provided for you in part *(vi)* above.\n",
    "\n",
    "Now its your turn:\n",
    "\n",
    "Lets suppose we had a new procedure to test that doubled an integer number and added 3 to it.\n",
    "Some test data for this could be:\n",
    "\n",
    "| input_data *n* | expected_output *2n+3* |\n",
    "| :-------: | :-------------: |\n",
    "| 0 | 3 |\n",
    "| 1 | 5 |\n",
    "| -1 | 0 |\n",
    "| 10 | 23 |\n",
    "| -1.5 | 0 |\n",
    "\n",
    "create a test_data list of tuples and a for loop to go through and print the input_data and expected_data"
   ]
  },
  {
   "cell_type": "code",
   "execution_count": null,
   "metadata": {
    "collapsed": true
   },
   "outputs": [],
   "source": [
    "# Instruction: create a test_data list of tuples and \n",
    "# a for loop to go through and print the input_data and expected_data"
   ]
  },
  {
   "cell_type": "markdown",
   "metadata": {},
   "source": [
    "## Optional: Defining a reverse_complement function\n",
    "\n",
    "> Have a go at this if you have time.\n",
    "\n",
    "Although the approach used here is OK the final script mixes together the testing procedure,\n",
    "the code for the reverse complement and printing out the results. \n",
    "\n",
    "Suppose a colleague want to use you reverse complement procedure for their own sequence.\n",
    "It would require big adaptations to use the code we have so far - chopping out code.\n",
    "\n",
    "Instead it would be a much better idea if we could separate out the reverse complement procedure into a **function**.\n",
    "\n",
    "So far you have used a number of functions that are provided by Python. For instance:\n",
    "* to find out the length of a string you have used the `len()` function,\n",
    "* and to convert an integer floating number to a string you have have used `str()` function:"
   ]
  },
  {
   "cell_type": "code",
   "execution_count": null,
   "metadata": {},
   "outputs": [],
   "source": [
    "# Instruction: run this cell to see len and str function\n",
    "sequence = 'TAG'  \n",
    "seq_length = len(sequence)\n",
    "print('length of \"' + sequence + '\" is ' + str(seq_length) + ' characters')"
   ]
  },
  {
   "cell_type": "markdown",
   "metadata": {},
   "source": [
    "Using functions like this is convenient. Suppose we want to work out the reverse complement of a number of sequences. Wouldn't it be a great idea if we could simply call a function just like `len()` and this would supply the reverse complement. This function would:\n",
    "\n",
    "* given a string that is a DNA sequence - composed of A, T, G and C characters\n",
    "* find the reverse complement of the sequence. \n",
    "\n",
    "We could use the function in the same way as `len()`\n",
    "```\n",
    "sequence = 'TAG'\n",
    "rev_comp = reverse_complement(sequence)\n",
    "print(rev_comp)\n",
    "```\n",
    "In this example the print would produce `ATC` (for the input sequence `TAG`).\n",
    "\n",
    "This would have a number of advantages:\n",
    "\n",
    "* This would enable us to reuse the same code a number of times without having to copy and paste it time and time again.\n",
    "* Additionally if we decided to alter the procedure, for instance to allow the function to work with RNA sequences as well as DNA, we could change it in one place.\n",
    "* The function could be used by other people.\n",
    "\n",
    "We will see how you write a function in the next exercise. \n",
    "For now use this `reverse_complement(sequence)` function:"
   ]
  },
  {
   "cell_type": "code",
   "execution_count": null,
   "metadata": {
    "collapsed": true
   },
   "outputs": [],
   "source": [
    "# DEFINE reverse_complement function\n",
    "# Instruction: run this cell so that the kernel\n",
    "# registers the reverse_complement function\n",
    "def reverse_complement(sequence):\n",
    "    \"\"\"\n",
    "    For an input DNA sequence returns the reverse complement\n",
    "    The input DNA sequence must be a string made up solely of \n",
    "    A, T, G and C characters.\n",
    "    \n",
    "    Note: no error checking is done so results for strings with\n",
    "    \"\"\"\n",
    "    complement = sequence\n",
    "    complement = complement.replace('A','t')\n",
    "    complement = complement.replace('T','a')\n",
    "    complement = complement.replace('G','c')\n",
    "    complement = complement.replace('C','g')\n",
    "    complement = complement.upper()\n",
    "    reverse_complement = complement[::-1]\n",
    "    return reverse_complement"
   ]
  },
  {
   "cell_type": "markdown",
   "metadata": {},
   "source": [
    "Once you have run the cell above the function can be used:"
   ]
  },
  {
   "cell_type": "code",
   "execution_count": null,
   "metadata": {},
   "outputs": [],
   "source": [
    "# Instruction: run this cell to see how reverse_complement function can be used.\n",
    "# N.B. make sure you have run the cell above that starts  \n",
    "# with \"# DEFINE reverse_complement function\" before running this cell\n",
    "print('The reverse complement of A is' , reverse_complement('A'))\n",
    "print('The reverse complement of TAG is' , reverse_complement('TAG'))"
   ]
  },
  {
   "cell_type": "markdown",
   "metadata": {},
   "source": [
    "Can you adapt the test code"
   ]
  },
  {
   "cell_type": "code",
   "execution_count": null,
   "metadata": {},
   "outputs": [],
   "source": [
    "# Instruction: test the reverse_complement function\n",
    "test_seqs_and_rev_comp = [('A', 'T'), \n",
    "                          ('T', 'A'), \n",
    "                          ('G', 'C'), \n",
    "                          ('C', 'G'), \n",
    "                          ('AA', 'TT'), \n",
    "                          ('AT', 'AT'), \n",
    "                          ('AG', 'CT'), \n",
    "                          ('AC', 'GT'), \n",
    "                          ('TTT', 'AAA'), \n",
    "                          ('ATT', 'AAT'), \n",
    "                          ('TAT', 'ATA'), \n",
    "                          ('TTA', 'TAA'), \n",
    "                          ('TTT', 'AAA'), \n",
    "                          ('GTT', 'AAC'), \n",
    "                          ('TGT', 'ACA'), \n",
    "                          ('TTG', 'CAA'), \n",
    "                          ('AAAATTTGGC', 'GCCAAATTTT'), \n",
    "                          ('GCCAAATTTT', 'AAAATTTGGC'), \n",
    "                          ('CTGCTATAAAAGGCTG', 'CAGCCTTTTATAGCAG'), \n",
    "                          ( 200*'A'+ 100*'GT', 100*'AC' + 200*'T')]\n",
    "for test_seq, given_rev_comp in test_seqs_and_rev_comp:\n",
    "    pass\n",
    "    # test the reverse_complement(test_seq) produces a\n",
    "    # reverse complement that is the same as given_rev_comp    "
   ]
  },
  {
   "cell_type": "markdown",
   "metadata": {},
   "source": [
    "Can you define a function for your reverse_complement procedure call if `my_reverse_complement`? \n",
    "\n",
    "> *You may need to wait until the after the next exercise for this!*"
   ]
  },
  {
   "cell_type": "code",
   "execution_count": null,
   "metadata": {
    "collapsed": true
   },
   "outputs": [],
   "source": []
  }
 ],
 "metadata": {
  "kernelspec": {
   "display_name": "Python 3",
   "language": "python",
   "name": "python3"
  },
  "language_info": {
   "codemirror_mode": {
    "name": "ipython",
    "version": 3
   },
   "file_extension": ".py",
   "mimetype": "text/x-python",
   "name": "python",
   "nbconvert_exporter": "python",
   "pygments_lexer": "ipython3",
   "version": "3.6.3"
  }
 },
 "nbformat": 4,
 "nbformat_minor": 2
}
