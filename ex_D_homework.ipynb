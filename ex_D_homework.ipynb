{
 "cells": [
  {
   "cell_type": "markdown",
   "metadata": {},
   "source": [
    "# homework D: Writing your own functions\n",
    "\n",
    "Make sure you have worked through [workbook D](./ex_D_workbook.ipynb) before tackling this homework."
   ]
  },
  {
   "cell_type": "markdown",
   "metadata": {},
   "source": [
    "> ### Reminder: saving your work\n",
    ">\n",
    "> As you work through the work book it is important to regularly save your work. Notice that as you have made  changes the Jupyter window top line will warn you there are `(unsaved changes)` in small text. To save your work in this notebook by either select menu item `File` `Save` or by hit the save button:\n",
    "> \n",
    "> <img src=\"./images/save_button.png\"/>\n",
    ">\n",
    "> \n",
    "> ### Reminder: getting help \n",
    "> Please see the page:\n",
    "> [Help with programming](https://canvas.anglia.ac.uk/courses/1490/pages/help-with-programming)\n",
    "> on ARU Canvas."
   ]
  },
  {
   "cell_type": "markdown",
   "metadata": {},
   "source": [
    "## Function for finding the percentage GC content in a DNA sequence\n",
    "As we have already seen in workbook A, DNAs with higher proportion of GC base pairs compared to AT have a higher melting temperature and parts of the genome with a higher GC content tend to code for proteins, see https://en.wikipedia.org/wiki/GC-content. \n",
    "\n",
    "Use the len() function and .count() method to find out the percentage GC content:\n",
    "\n",
    "$$\n",
    "percent_{GC} = 100*\\frac{N_G + N_C}{N_{total}}\n",
    "$$\n",
    "\n",
    "where $N_G$ is the number of G's in the sequence, $N_C$ is the number of C's in the sequence and $N_{total}$ is the total length of the sequence."
   ]
  },
  {
   "cell_type": "markdown",
   "metadata": {},
   "source": [
    "**Now it is your turn!**\n",
    "\n",
    "Write a function that returns the percentage G and C bases in a DNA given sequence.\n",
    "\n",
    "* First think what would be a good name for the function. The Python convention is\n",
    "  that function names are lower case with words separated by underscores - so lets call\n",
    "  it `percentage_gc`\n",
    "* What arguments should `percentage_gc` have?\n",
    "* What will `percentage_gc` return."
   ]
  },
  {
   "cell_type": "code",
   "execution_count": 13,
   "metadata": {
    "collapsed": true
   },
   "outputs": [],
   "source": [
    "# Instruction: write a function thats returns the number of G and C bases in a given sequence.\n",
    "def ___(___):   ### replace the ____\n",
    "    \"\"\"docstring describing the function\"\"\"\n",
    "    return ____ ### replace the ____"
   ]
  },
  {
   "cell_type": "code",
   "execution_count": 20,
   "metadata": {
    "collapsed": true
   },
   "outputs": [],
   "source": [
    "# MODEL ANSWER\n",
    "def percentage_gc(sequence):\n",
    "    \"\"\"returns the percentage GC content for a DNA sequence string\"\"\"\n",
    "    n_gc = 0\n",
    "    for base in 'GCcg':\n",
    "        n_gc += sequence.count(base)\n",
    "    return 100.*n_gc/len(sequence)"
   ]
  },
  {
   "cell_type": "markdown",
   "metadata": {},
   "source": [
    "Now lets first review the help message for the function:"
   ]
  },
  {
   "cell_type": "code",
   "execution_count": 16,
   "metadata": {},
   "outputs": [
    {
     "name": "stdout",
     "output_type": "stream",
     "text": [
      "Help on function percentage_gc in module __main__:\n",
      "\n",
      "percentage_gc(sequence)\n",
      "    returns the percentage GC content for a DNA sequence string\n",
      "\n"
     ]
    }
   ],
   "source": [
    "# Instruction: run this cell to see the help message for the function:\n",
    "help(percentage_gc)"
   ]
  },
  {
   "cell_type": "markdown",
   "metadata": {},
   "source": [
    "**Question:** is the help message understandable without reading the function?\n",
    "If not revise the docstring in you percentage_gc function above."
   ]
  },
  {
   "cell_type": "markdown",
   "metadata": {},
   "source": [
    "Now we need to test the `number_gc` function works\n",
    "\n",
    "First complete this table \n",
    "\n",
    "> you will need to edit this Markdown cell to do this double click on this cell \n",
    "> and then replace the ? in the table below. When you have finished run the cell\n",
    "> with the run button above (and save your work).\n",
    "\n",
    "| **test sequence** | **Percentage GC content** |\n",
    "| ----------------- | :-----------------------: |\n",
    "| G                 | 100%     |\n",
    "| AC                |  50%     |   \n",
    "| CAT               |  33.333% |\n",
    "| C                 | 100%     |\n",
    "| A                 |   0%     |\n",
    "| AAA               |    ?     |\n",
    "| GGG               |    ?     |\n",
    "| GAC               |    ?     |\n",
    "| GGGAAACCCTTT      |    ?     |\n",
    "\n",
    "A good way to store this data is as a list of tuples, where each tuple is (a test sequence, manually calculated %GC content):"
   ]
  },
  {
   "cell_type": "code",
   "execution_count": 15,
   "metadata": {},
   "outputs": [
    {
     "name": "stdout",
     "output_type": "stream",
     "text": [
      "expect sequence: G to give %: 100.0\n",
      "PASS\n",
      "expect sequence: AC to give %: 50.0\n",
      "PASS\n",
      "expect sequence: CAT to give %: 33.33333\n",
      "PASS\n"
     ]
    }
   ],
   "source": [
    "# Instruction: complete this test the number_gc function with the data from the completed table above.\n",
    "test_seq_percent_gc = [('G', 100.),\n",
    "                       ('AC', 50.),\n",
    "                       ('CAT', 33.33333)\n",
    "                       # complete input data from table above\n",
    "                      ]\n",
    "for seq, expect_percent in test_seq_percent_gc:\n",
    "    # replace print line below with a test checking that\n",
    "    # functon percentage_gc gives the expected answer\n",
    "    print('expect sequence: ' + seq + \n",
    "          ' to give %: ' + str(expect_percent))\n",
    "    # see Hint in next cell for comparing floating numbers\n",
    "    if round(percentage_gc(seq),3) == round(expect_percent,3):\n",
    "        print('PASS')\n",
    "    else:\n",
    "        print('FAIL')"
   ]
  },
  {
   "cell_type": "markdown",
   "metadata": {},
   "source": [
    "**Hint** Comparing floating numbers are exactly equal can lead to problems because of limited precision in numerical calculations. There are many ways to get around the problem (see https://stackoverflow.com/questions/5595425/what-is-the-best-way-to-compare-floats-for-almost-equality-in-python).\n",
    "\n",
    "A reasonable approach here is to use the round function to compare the numbers to 3 decimal places:"
   ]
  },
  {
   "cell_type": "code",
   "execution_count": 11,
   "metadata": {},
   "outputs": [
    {
     "name": "stdout",
     "output_type": "stream",
     "text": [
      "Help on built-in function round in module builtins:\n",
      "\n",
      "round(...)\n",
      "    round(number[, ndigits]) -> number\n",
      "    \n",
      "    Round a number to a given precision in decimal digits (default 0 digits).\n",
      "    This returns an int when called with one argument, otherwise the\n",
      "    same type as the number. ndigits may be negative.\n",
      "\n"
     ]
    }
   ],
   "source": [
    "# Instruction run this cell to see help on the round function\n",
    "help(round)"
   ]
  },
  {
   "cell_type": "markdown",
   "metadata": {
    "collapsed": true
   },
   "source": [
    "## Predicting the melting temperature of short DNA sequences\n",
    "\n",
    "The GC content of DNA is an important property. Although DNA forms double helical structures it is\n",
    "often necessary in both biology and biotechnology to separate the two strands. One way of seperating the strands is to warm up the DNA solution so that the DNA double helix 'melts' into separate strands. \n",
    "\n",
    "See video: https://www.youtube.com/watch?v=OblPqlOOgew for further background.\n",
    "\n",
    "For short DNA sequences it is possible to predict the DNA melting temperature (the temperature at which 50% of the DNA is double-helical and 50% is in single strands) from its sequence (from http://biotools.nubic.northwestern.edu/OligoCalc.html). For sequences less than 14 bases the:\n",
    "\n",
    "$$\n",
    "T_m = 2(N_A + N_T) + 4(N_G + N_C)\n",
    "$$\n",
    "\n",
    "where:\n",
    "* $T_m$ is the 'basic' melting temperature in $^{\\circ}C$\n",
    "* $N_A$ is the number of A's in the sequence\n",
    "* $N_T$ is the number of T's in the sequence\n",
    "* $N_G$ is the number of G's in the sequence\n",
    "* $N_C$ is the number of C's in the sequence\n",
    "\n",
    "This formula is from http://biotools.nubic.northwestern.edu/OligoCalc.html who cite Marmur,J., and Doty,P. (1962) *J Mol Biol* **5**:109-118 https://doi.org/10.1016/S0022-2836(62)80066-7\n",
    "\n",
    "You can see that as we would expect sequences of the same length with a higher GC content have a higher predicted melting temperature.\n",
    "\n",
    "Write a function basic_tm to calculate the basic melting temperature according to the equation."
   ]
  },
  {
   "cell_type": "code",
   "execution_count": 17,
   "metadata": {
    "collapsed": true
   },
   "outputs": [],
   "source": [
    "# Instruction write a basic_tm function\n",
    "def basic_tm(sequence):\n",
    "    \"\"\"your docsting\"\"\"\n",
    "    tm = 0 # replace this line\n",
    "    return tm "
   ]
  },
  {
   "cell_type": "code",
   "execution_count": 35,
   "metadata": {
    "collapsed": true
   },
   "outputs": [],
   "source": [
    "# MODEL ANSWER\n",
    "def basic_tm(sequence):\n",
    "    \"\"\"\n",
    "    returns the basic Tm melting temperature in degrees C\n",
    "    for the input DNA sequence.\n",
    "    \n",
    "    For less than 14 bases the formula:\n",
    "    \n",
    "    Tm=2(NA+NT)+4(NG+NC)\n",
    "    \n",
    "    is used where NA is the number of A's, NT is the number of T's\n",
    "    This formula is from http://biotools.nubic.northwestern.edu/OligoCalc.html \n",
    "    who cite Marmur,J., and Doty,P. (1962) J Mol Biol 5:109-118 \n",
    "    https://doi.org/10.1016/S0022-2836(62)80066-7\n",
    "    \"\"\"\n",
    "    tm = 2.*(sequence.count('A') + sequence.count('T'))\n",
    "    tm += 4.*(sequence.count('G') + sequence.count('C'))\n",
    "    return tm "
   ]
  },
  {
   "cell_type": "markdown",
   "metadata": {},
   "source": [
    "Now lets review the help message:"
   ]
  },
  {
   "cell_type": "code",
   "execution_count": 36,
   "metadata": {},
   "outputs": [
    {
     "name": "stdout",
     "output_type": "stream",
     "text": [
      "Help on function basic_tm in module __main__:\n",
      "\n",
      "basic_tm(sequence)\n",
      "    returns the basic Tm melting temperature in degrees C\n",
      "    for the input DNA sequence.\n",
      "    \n",
      "    For less than 14 bases the formula:\n",
      "    \n",
      "    Tm=2(NA+NT)+4(NG+NC)\n",
      "    \n",
      "    is used where NA is the number of A's, NT is the number of T's\n",
      "    This formula is from http://biotools.nubic.northwestern.edu/OligoCalc.html \n",
      "    who cite Marmur,J., and Doty,P. (1962) J Mol Biol 5:109-118 \n",
      "    https://doi.org/10.1016/S0022-2836(62)80066-7\n",
      "\n"
     ]
    }
   ],
   "source": [
    "# Instruction: run this cell to see the help message for basic_tm:\n",
    "help(basic_tm)"
   ]
  },
  {
   "cell_type": "markdown",
   "metadata": {},
   "source": [
    "**Questions:** \n",
    "* Is the help message understandable? \n",
    "* Could you use the function without reading its code?\n",
    "* Have you credited where the formula came from. \n",
    "  It is really important as a scientist to correctly cite\n",
    "  others work. \n",
    "  \n",
    "If not revise the docstring in the basic_tm above."
   ]
  },
  {
   "cell_type": "markdown",
   "metadata": {},
   "source": [
    "#### Testing the function:\n",
    "\n",
    "Does your function work as it should. We need some data to test.\n",
    "    \n",
    "Complete the following table by running the basic tm calculation for \n",
    "each sequence at http://biotools.nubic.northwestern.edu/OligoCalc.html \n",
    "\n",
    "| **test sequence**   | **Basic Tm (degrees C) from OligoCalc** |\n",
    "| -----------------   | :-------------------------------------: |\n",
    "| G                   |  4    |\n",
    "| GG                  |  8    |   \n",
    "| A                   |  ?    |\n",
    "| GA                  |  ?    |\n",
    "| *choose a sequence* |  ?    |\n",
    "| *choose a sequence* |  ?    |\n",
    "| *choose a sequence* |  ?    |\n",
    "\n",
    "The formula applies for sequences less than 14 bases. So when choosing sequences\n",
    "it would be a good idea to include two or three sequences that are 13 bases long\n",
    "with different (high, low, medium) percentage GC."
   ]
  },
  {
   "cell_type": "code",
   "execution_count": 37,
   "metadata": {
    "collapsed": true
   },
   "outputs": [],
   "source": [
    "# create a test data list tuples pairs like we did above "
   ]
  },
  {
   "cell_type": "code",
   "execution_count": 38,
   "metadata": {
    "collapsed": true
   },
   "outputs": [],
   "source": [
    "# MODEL ANSWER\n",
    "# create a test data list tuples pairs like we did above \n",
    "test_seq_basic_tm = [('G', 4.),\n",
    "                     ('GG', 8.),\n",
    "                     ('A', 2.),\n",
    "                     ('GA', 6.),\n",
    "                     (13*'A', 26.),\n",
    "                     (13*'G', 52.),\n",
    "                     (6*'GA' + 'A', 38.)\n",
    "                    ]"
   ]
  },
  {
   "cell_type": "code",
   "execution_count": 39,
   "metadata": {
    "collapsed": true
   },
   "outputs": [],
   "source": [
    "# now test your function with test_seq_basic_tm\n",
    "# FIRST cut and paste and adapt code from the example above"
   ]
  },
  {
   "cell_type": "code",
   "execution_count": 40,
   "metadata": {},
   "outputs": [
    {
     "name": "stdout",
     "output_type": "stream",
     "text": [
      "expect sequence: G gives Tm: 4.0\n",
      "PASS\n",
      "expect sequence: GG gives Tm: 8.0\n",
      "PASS\n",
      "expect sequence: A gives Tm: 2.0\n",
      "PASS\n",
      "expect sequence: GA gives Tm: 6.0\n",
      "PASS\n",
      "expect sequence: AAAAAAAAAAAAA gives Tm: 26.0\n",
      "PASS\n",
      "expect sequence: GGGGGGGGGGGGG gives Tm: 52.0\n",
      "PASS\n",
      "expect sequence: GAGAGAGAGAGAA gives Tm: 38.0\n",
      "PASS\n"
     ]
    }
   ],
   "source": [
    "# MODEL ANSWER\n",
    "for seq, expect_tm in test_seq_basic_tm:\n",
    "    # replace print line below with a test checking that\n",
    "    # functon percentage_gc gives the expected answer\n",
    "    print('expect sequence: ' + seq + \n",
    "          ' gives Tm: ' + str(expect_tm))\n",
    "    if round(basic_tm(seq),3) == round(expect_tm,3):\n",
    "        print('PASS')\n",
    "    else:\n",
    "        print('FAIL')"
   ]
  },
  {
   "cell_type": "code",
   "execution_count": 45,
   "metadata": {},
   "outputs": [
    {
     "name": "stdout",
     "output_type": "stream",
     "text": [
      "testing function: basic_tm\n",
      "\texpect sequence: G gives data: 4.0\n",
      "\tPASS\n",
      "\texpect sequence: GG gives data: 8.0\n",
      "\tPASS\n",
      "\texpect sequence: A gives data: 2.0\n",
      "\tPASS\n",
      "\texpect sequence: GA gives data: 6.0\n",
      "\tPASS\n",
      "\texpect sequence: AAAAAAAAAAAAA gives data: 26.0\n",
      "\tPASS\n",
      "\texpect sequence: GGGGGGGGGGGGG gives data: 52.0\n",
      "\tPASS\n",
      "\texpect sequence: GAGAGAGAGAGAA gives data: 38.0\n",
      "\tPASS\n",
      "testing function: percentage_gc\n",
      "\texpect sequence: G gives data: 100.0\n",
      "\tPASS\n",
      "\texpect sequence: AC gives data: 50.0\n",
      "\tPASS\n",
      "\texpect sequence: CAT gives data: 33.33333\n",
      "\tPASS\n"
     ]
    }
   ],
   "source": [
    "# Advanced programs can you avoid code duplication \n",
    "# in the testing by writing a function \n",
    "def test_sequence_fns(test_fn, test_seq_to_data):\n",
    "    \"\"\"\n",
    "    tests function test_fn gives expected data\n",
    "    for test_seq_to_data list of tuple pairs\n",
    "    [(sequence, data), (sequence, data), ...]\n",
    "    \n",
    "    prints out the test results\n",
    "    \"\"\"\n",
    "    print('testing function: ' + test_fn.__name__)\n",
    "    for seq, expected in test_seq_to_data:\n",
    "        print('\\texpect sequence: ' + seq + \n",
    "              ' gives data: ' + str(expected))\n",
    "        calculated = test_fn(seq)\n",
    "        if calculated == expected or \\\n",
    "           (isinstance(expected,float) \n",
    "            and round(calculated,3) == round(expected,3)) :\n",
    "            print('\\tPASS')\n",
    "        else:\n",
    "            print('\\tFAIL', calculated)\n",
    "        \n",
    "# now apply to test basic_tm\n",
    "test_sequence_fns(basic_tm, test_seq_basic_tm)\n",
    " \n",
    "# and the percentage_gc function above\n",
    "test_sequence_fns(percentage_gc, test_seq_percent_gc)\n",
    "\n",
    "# NOTE that we can pass a function the name of a function!\n",
    "# NOTE avoid code duplication and t"
   ]
  },
  {
   "cell_type": "code",
   "execution_count": null,
   "metadata": {
    "collapsed": true
   },
   "outputs": [],
   "source": []
  },
  {
   "cell_type": "code",
   "execution_count": null,
   "metadata": {
    "collapsed": true
   },
   "outputs": [],
   "source": []
  }
 ],
 "metadata": {
  "kernelspec": {
   "display_name": "Python 3",
   "language": "python",
   "name": "python3"
  },
  "language_info": {
   "codemirror_mode": {
    "name": "ipython",
    "version": 3
   },
   "file_extension": ".py",
   "mimetype": "text/x-python",
   "name": "python",
   "nbconvert_exporter": "python",
   "pygments_lexer": "ipython3",
   "version": "3.6.3"
  }
 },
 "nbformat": 4,
 "nbformat_minor": 2
}
